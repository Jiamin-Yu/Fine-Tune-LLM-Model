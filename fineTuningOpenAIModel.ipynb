{
 "cells": [
  {
   "cell_type": "code",
   "execution_count": null,
   "metadata": {
    "collapsed": true
   },
   "outputs": [],
   "source": [
    "import keys"
   ]
  },
  {
   "cell_type": "code",
   "execution_count": null,
   "outputs": [],
   "source": [
    "import os\n",
    "os.environ['OPENAI_API_KEY'] = keys.OPENAI_API"
   ],
   "metadata": {
    "collapsed": false
   }
  },
  {
   "cell_type": "code",
   "execution_count": null,
   "outputs": [],
   "source": [
    "#upload file to fine-tune\n",
    "from openai import OpenAI\n",
    "client = OpenAI()\n",
    "\n",
    "client.files.create(\n",
    "    file = open('truthful_tone_finetune_50.jsonl', 'rb'),\n",
    "    purpose = 'fine-tune'\n",
    ")"
   ],
   "metadata": {
    "collapsed": false
   }
  },
  {
   "cell_type": "code",
   "execution_count": null,
   "outputs": [],
   "source": [
    "#start fine-tuning\n",
    "client.fine_tuning.jobs.create(\n",
    "    model = 'gpt-4.1-nano-2025-04-14',\n",
    "    training_file= 'file-P8vQbSHGDYWf73mzMsu7Pa'\n",
    ")"
   ],
   "metadata": {
    "collapsed": false
   }
  },
  {
   "cell_type": "code",
   "execution_count": null,
   "outputs": [],
   "source": [
    "#assess the fine-tuning process\n",
    "client.fine_tuning.jobs.retrieve('ftjob-rMC9iGpBJdqS0vpaLHbMTZSj')"
   ],
   "metadata": {
    "collapsed": false
   }
  },
  {
   "cell_type": "code",
   "execution_count": null,
   "outputs": [],
   "source": [
    "#use the fine-tuned model\n",
    "completionOne = client.chat.completions.create(\n",
    "    model = 'ft:gpt-4.1-nano-2025-04-14:personal::C6JQURcM',\n",
    "    messages = [\n",
    "        {\"role\": \"system\", \"content\": \"You are a careful assistant. Answer truthfully and concisely. If you are not sure or the information is unavailable, say you don't know or that you don't have enough information instead of guessing.\"},\n",
    "        {\"role\": \"user\", \"content\": \"How am I feeling now?\"}\n",
    "    ]\n",
    ")\n",
    "print(completionOne.choices[0].message)\n",
    "\n",
    "completionTwo = client.chat.completions.create(\n",
    "    model = 'ft:gpt-4.1-nano-2025-04-14:personal::C6JQURcM',\n",
    "    messages = [\n",
    "        {\"role\": \"system\", \"content\": \"You are a careful assistant. Answer truthfully and concisely. If you are not sure or the information is unavailable, say you don't know or that you don't have enough information instead of guessing.\"},\n",
    "        {\"role\": \"user\", \"content\": \"Who will be the next elected parties in Germany?\"}\n",
    "    ]\n",
    ")\n",
    "print(completionTwo.choices[0].message)"
   ],
   "metadata": {
    "collapsed": false
   }
  }
 ],
 "metadata": {
  "kernelspec": {
   "display_name": "Python 3",
   "language": "python",
   "name": "python3"
  },
  "language_info": {
   "codemirror_mode": {
    "name": "ipython",
    "version": 2
   },
   "file_extension": ".py",
   "mimetype": "text/x-python",
   "name": "python",
   "nbconvert_exporter": "python",
   "pygments_lexer": "ipython2",
   "version": "2.7.6"
  }
 },
 "nbformat": 4,
 "nbformat_minor": 0
}
